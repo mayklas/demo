{
 "cells": [
  {
   "cell_type": "markdown",
   "id": "e57d32d3-52d3-43d6-84a6-5482c8fed4d0",
   "metadata": {},
   "source": [
    "# My Jupyter Notebook on IBM Watson Studio"
   ]
  },
  {
   "cell_type": "markdown",
   "id": "b13cae7d-1839-4135-890e-17ca9e9c3d4a",
   "metadata": {},
   "source": [
    "**May Klasovsky** <br>\n",
    "M.Sc. Biotechnology"
   ]
  },
  {
   "cell_type": "markdown",
   "id": "4bcdcad2-168c-40b3-a405-19240c6e17c3",
   "metadata": {},
   "source": [
    "*I am interested in data science for the field of bioinformatics and computational biology. <br> I hope to start my PhD in the field and I want prior knowledge in programing.*"
   ]
  },
  {
   "cell_type": "code",
   "execution_count": null,
   "id": "16beb305-7e01-4cf9-a498-9507cb7d8438",
   "metadata": {},
   "outputs": [],
   "source": [
    "### Get the Day of the Week"
   ]
  },
  {
   "cell_type": "code",
   "execution_count": 8,
   "id": "be72bfff-7c74-4824-bd39-c3a2d3ed6cf2",
   "metadata": {},
   "outputs": [
    {
     "name": "stdout",
     "output_type": "stream",
     "text": [
      "Datetime is: 2023-01-09 13:25:39.538790\n"
     ]
    }
   ],
   "source": [
    "from datetime import datetime\n",
    "\n",
    "dt = datetime.now()\n",
    "print('Datetime is:', dt)\n"
   ]
  },
  {
   "cell_type": "markdown",
   "id": "f1a51ce2-3c53-4f38-9641-de4821090c35",
   "metadata": {},
   "source": [
    "horizontal rule:\n",
    "***\n",
    "\n",
    "bulleted list:\n",
    "- one\n",
    "- tow\n",
    "- three\n",
    "- four\n",
    "\n",
    "numbered list:\n",
    "1. apple\n",
    "2. orenge\n",
    "3. strwberry\n",
    "4. banana\n",
    "\n",
    "hyperlinks: <br>\n",
    "A [link](https://www.youtube.com/?hl=iw&gl=IL \"Youtube\").\n",
    "\n",
    "images: <br>\n",
    "![convert notebook to web app](https://raw.githubusercontent.com/mljar/visual-identity/main/mercury/mercury_convert_notebook.png)\n",
    "\n",
    "[Alt](/https://www.freepnglogos.com/uploads/dog-png/bow-wow-gourmet-dog-treats-are-healthy-natural-low-4.png \"Title\")"
   ]
  },
  {
   "cell_type": "code",
   "execution_count": null,
   "id": "ddf5382f-1444-4a8e-bf22-e528322c5008",
   "metadata": {},
   "outputs": [],
   "source": []
  }
 ],
 "metadata": {
  "kernelspec": {
   "display_name": "Python 3 (ipykernel)",
   "language": "python",
   "name": "python3"
  },
  "language_info": {
   "codemirror_mode": {
    "name": "ipython",
    "version": 3
   },
   "file_extension": ".py",
   "mimetype": "text/x-python",
   "name": "python",
   "nbconvert_exporter": "python",
   "pygments_lexer": "ipython3",
   "version": "3.9.13"
  }
 },
 "nbformat": 4,
 "nbformat_minor": 5
}
